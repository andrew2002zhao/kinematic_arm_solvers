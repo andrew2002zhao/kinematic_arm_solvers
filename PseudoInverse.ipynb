{
 "cells": [
  {
   "cell_type": "markdown",
   "metadata": {},
   "source": [
    "The pseudoinverse method uses an approximated inverse for the jacobian matrix. The implented algorithm requires full row rank. The algorithm fails near singularities."
   ]
  },
  {
   "cell_type": "code",
   "execution_count": 53,
   "metadata": {},
   "outputs": [],
   "source": [
    "import numpy as np\n",
    "import sympy as sym\n",
    "import math"
   ]
  },
  {
   "cell_type": "code",
   "execution_count": 54,
   "metadata": {},
   "outputs": [],
   "source": [
    "# SOME HARD CODED VALUES FOR ROBOT PARAMETERS\n",
    "z = 0.3\n",
    "l1 = 0.5\n",
    "l2 = 0.5\n",
    "r1 = 0.2\n",
    "r2 = 0.25\n",
    "r3 = 0.3\n",
    "phi_value = 0\n",
    "theta1_value = 1.5714\n",
    "theta2_value = 0\n",
    "theta3_value = 1.5714\n",
    "starting_angles = sym.Matrix([phi_value, theta1_value, theta2_value, theta3_value])\n",
    "phi, theta1, theta2, theta3 = sym.symbols(\"phi theta1 theta2 theta3\")\n"
   ]
  },
  {
   "cell_type": "code",
   "execution_count": 55,
   "metadata": {},
   "outputs": [
    {
     "name": "stdout",
     "output_type": "stream",
     "text": [
      "Matrix([[0, 0, 0, 0], [0.500000000000000, 1.57000000000000, 0, phi], [0, 0, 0.950000000000000, theta1], [0, 0, 1.05000000000000, theta2], [0, 0, 0.300000000000000, theta3]])\n"
     ]
    }
   ],
   "source": [
    "# MAKE A DH PARAMETER TABLE\n",
    "# d, alpha, r, theta\n",
    "dh_parameters = sym.Matrix(\n",
    "  [\n",
    "   [0, 0, 0, 0],\n",
    "   [z + r1, 1.57, 0, phi],\n",
    "   [0, 0, r1 + l1 + r2, theta1],\n",
    "   [0, 0, r2 + l2 + r3, theta2],\n",
    "   [0, 0, r3, theta3]\n",
    "  ] \n",
    ")\n",
    "print(dh_parameters)\n"
   ]
  },
  {
   "cell_type": "code",
   "execution_count": 56,
   "metadata": {},
   "outputs": [
    {
     "name": "stdout",
     "output_type": "stream",
     "text": [
      "5\n",
      "Matrix([[(-(-0.000796326710733263*sin(phi)*sin(theta1) + 1.0*cos(phi)*cos(theta1))*sin(theta2) + (-0.000796326710733263*sin(phi)*cos(theta1) - 1.0*sin(theta1)*cos(phi))*cos(theta2))*sin(theta3) + ((-0.000796326710733263*sin(phi)*sin(theta1) + 1.0*cos(phi)*cos(theta1))*cos(theta2) + (-0.000796326710733263*sin(phi)*cos(theta1) - 1.0*sin(theta1)*cos(phi))*sin(theta2))*cos(theta3), (-(-0.000796326710733263*sin(phi)*sin(theta1) + 1.0*cos(phi)*cos(theta1))*sin(theta2) + (-0.000796326710733263*sin(phi)*cos(theta1) - 1.0*sin(theta1)*cos(phi))*cos(theta2))*cos(theta3) - ((-0.000796326710733263*sin(phi)*sin(theta1) + 1.0*cos(phi)*cos(theta1))*cos(theta2) + (-0.000796326710733263*sin(phi)*cos(theta1) - 1.0*sin(theta1)*cos(phi))*sin(theta2))*sin(theta3), 0.999999682931835*sin(phi), 0.3*(-(-0.000796326710733263*sin(phi)*sin(theta1) + 1.0*cos(phi)*cos(theta1))*sin(theta2) + (-0.000796326710733263*sin(phi)*cos(theta1) - 1.0*sin(theta1)*cos(phi))*cos(theta2))*sin(theta3) + 0.3*((-0.000796326710733263*sin(phi)*sin(theta1) + 1.0*cos(phi)*cos(theta1))*cos(theta2) + (-0.000796326710733263*sin(phi)*cos(theta1) - 1.0*sin(theta1)*cos(phi))*sin(theta2))*cos(theta3) + 1.05*(-0.000796326710733263*sin(phi)*sin(theta1) + 1.0*cos(phi)*cos(theta1))*cos(theta2) + 1.05*(-0.000796326710733263*sin(phi)*cos(theta1) - 1.0*sin(theta1)*cos(phi))*sin(theta2) - 0.0007565103751966*sin(phi)*sin(theta1) + 0.95*cos(phi)*cos(theta1)], [((-1.0*sin(phi)*sin(theta1) + 0.000796326710733263*cos(phi)*cos(theta1))*sin(theta2) + (1.0*sin(phi)*cos(theta1) + 0.000796326710733263*sin(theta1)*cos(phi))*cos(theta2))*cos(theta3) + ((-1.0*sin(phi)*sin(theta1) + 0.000796326710733263*cos(phi)*cos(theta1))*cos(theta2) - (1.0*sin(phi)*cos(theta1) + 0.000796326710733263*sin(theta1)*cos(phi))*sin(theta2))*sin(theta3), -((-1.0*sin(phi)*sin(theta1) + 0.000796326710733263*cos(phi)*cos(theta1))*sin(theta2) + (1.0*sin(phi)*cos(theta1) + 0.000796326710733263*sin(theta1)*cos(phi))*cos(theta2))*sin(theta3) + ((-1.0*sin(phi)*sin(theta1) + 0.000796326710733263*cos(phi)*cos(theta1))*cos(theta2) - (1.0*sin(phi)*cos(theta1) + 0.000796326710733263*sin(theta1)*cos(phi))*sin(theta2))*cos(theta3), -0.999999682931835*cos(phi), 0.3*((-1.0*sin(phi)*sin(theta1) + 0.000796326710733263*cos(phi)*cos(theta1))*sin(theta2) + (1.0*sin(phi)*cos(theta1) + 0.000796326710733263*sin(theta1)*cos(phi))*cos(theta2))*cos(theta3) + 0.3*((-1.0*sin(phi)*sin(theta1) + 0.000796326710733263*cos(phi)*cos(theta1))*cos(theta2) - (1.0*sin(phi)*cos(theta1) + 0.000796326710733263*sin(theta1)*cos(phi))*sin(theta2))*sin(theta3) + 1.05*(-1.0*sin(phi)*sin(theta1) + 0.000796326710733263*cos(phi)*cos(theta1))*sin(theta2) + 1.05*(1.0*sin(phi)*cos(theta1) + 0.000796326710733263*sin(theta1)*cos(phi))*cos(theta2) + 0.95*sin(phi)*cos(theta1) + 0.0007565103751966*sin(theta1)*cos(phi)], [(-0.999999682931835*sin(theta1)*sin(theta2) + 0.999999682931835*cos(theta1)*cos(theta2))*sin(theta3) + (0.999999682931835*sin(theta1)*cos(theta2) + 0.999999682931835*sin(theta2)*cos(theta1))*cos(theta3), (-0.999999682931835*sin(theta1)*sin(theta2) + 0.999999682931835*cos(theta1)*cos(theta2))*cos(theta3) - (0.999999682931835*sin(theta1)*cos(theta2) + 0.999999682931835*sin(theta2)*cos(theta1))*sin(theta3), 0.000796326710733263, 0.3*(-0.999999682931835*sin(theta1)*sin(theta2) + 0.999999682931835*cos(theta1)*cos(theta2))*sin(theta3) + 0.3*(0.999999682931835*sin(theta1)*cos(theta2) + 0.999999682931835*sin(theta2)*cos(theta1))*cos(theta3) + 1.04999966707843*sin(theta1)*cos(theta2) + 0.949999698785243*sin(theta1) + 1.04999966707843*sin(theta2)*cos(theta1) + 0.5], [0, 0, 0, 1.00000000000000]])\n"
     ]
    }
   ],
   "source": [
    "\n",
    "# MAKE A DH MATRIX FOR THE ROBOT\n",
    "\n",
    "# USING THE PARAMETERS \n",
    "dh_matrix = np.diag(np.ones((4)))\n",
    "\n",
    "print(dh_parameters.shape[0])\n",
    "for i in range(dh_parameters.shape[0]):\n",
    "  \n",
    "  trans_z = sym.Matrix([\n",
    "    [1, 0, 0, 0],\n",
    "    [0, 1, 0, 0],\n",
    "    [0, 0, 1, dh_parameters[i, 0]],\n",
    "    [0, 0, 0, 1]\n",
    "  ])\n",
    "  dh_matrix = dh_matrix * trans_z\n",
    "  rot_z = sym.Matrix([\n",
    "    [sym.cos(dh_parameters[i, 3]), -1 * sym.sin(dh_parameters[i, 3]), 0, 0],\n",
    "    [sym.sin(dh_parameters[i, 3]), sym.cos(dh_parameters[i, 3]), 0, 0],\n",
    "    [0, 0, 1, 0],\n",
    "    [0, 0, 0 ,1]\n",
    "  ])\n",
    "  dh_matrix = dh_matrix * rot_z\n",
    "  trans_x = sym.Matrix([\n",
    "    [1, 0, 0, dh_parameters[i, 2]],\n",
    "    [0, 1, 0, 0],\n",
    "    [0, 0, 1, 0],\n",
    "    [0, 0, 0, 1]\n",
    "  ])\n",
    "  dh_matrix = dh_matrix * trans_x \n",
    "  rot_x = sym.Matrix([\n",
    "    [1, 0, 0, 0],\n",
    "    [0, sym.cos(dh_parameters[i, 1]), -1 * sym.sin(dh_parameters[i, 1]), 0],\n",
    "    [0, sym.sin(dh_parameters[i, 1]), sym.cos(dh_parameters[i, 1]), 0],\n",
    "    [0, 0, 0, 1]\n",
    "  ])\n",
    "  dh_matrix =  dh_matrix * rot_x\n",
    "  \n",
    "  \n",
    "print(dh_matrix) "
   ]
  },
  {
   "cell_type": "code",
   "execution_count": 57,
   "metadata": {},
   "outputs": [
    {
     "name": "stdout",
     "output_type": "stream",
     "text": [
      "Matrix([[-0.301207127684100], [0.00159236469867950], [2.49963679772224]])\n"
     ]
    }
   ],
   "source": [
    "# GET START POSITION\n",
    "position_function = dh_matrix[0:3, -1]\n",
    "start_position = position_function.evalf(subs={phi: phi_value, theta1: theta1_value, theta2: theta2_value, theta3: theta3_value})\n",
    "current_position = start_position\n",
    "print(start_position)"
   ]
  },
  {
   "cell_type": "code",
   "execution_count": 58,
   "metadata": {},
   "outputs": [],
   "source": [
    "# SET END POSITION\n",
    "\n",
    "target_position = sym.Matrix([1, 1, 1])\n"
   ]
  },
  {
   "cell_type": "code",
   "execution_count": 59,
   "metadata": {},
   "outputs": [
    {
     "name": "stdout",
     "output_type": "stream",
     "text": [
      "Matrix([[-0.3*(-(-0.000796326710733263*sin(phi)*sin(theta1) + 1.0*cos(phi)*cos(theta1))*sin(theta2) + (-0.000796326710733263*sin(phi)*cos(theta1) - 1.0*sin(theta1)*cos(phi))*cos(theta2))*sin(theta3) - 0.3*((-0.000796326710733263*sin(phi)*sin(theta1) + 1.0*cos(phi)*cos(theta1))*cos(theta2) + (-0.000796326710733263*sin(phi)*cos(theta1) - 1.0*sin(theta1)*cos(phi))*sin(theta2))*cos(theta3) - 1.05*(-0.000796326710733263*sin(phi)*sin(theta1) + 1.0*cos(phi)*cos(theta1))*cos(theta2) - 1.05*(-0.000796326710733263*sin(phi)*cos(theta1) - 1.0*sin(theta1)*cos(phi))*sin(theta2) + 0.0007565103751966*sin(phi)*sin(theta1) - 0.95*cos(phi)*cos(theta1) + 1], [-0.3*((-1.0*sin(phi)*sin(theta1) + 0.000796326710733263*cos(phi)*cos(theta1))*sin(theta2) + (1.0*sin(phi)*cos(theta1) + 0.000796326710733263*sin(theta1)*cos(phi))*cos(theta2))*cos(theta3) - 0.3*((-1.0*sin(phi)*sin(theta1) + 0.000796326710733263*cos(phi)*cos(theta1))*cos(theta2) - (1.0*sin(phi)*cos(theta1) + 0.000796326710733263*sin(theta1)*cos(phi))*sin(theta2))*sin(theta3) - 1.05*(-1.0*sin(phi)*sin(theta1) + 0.000796326710733263*cos(phi)*cos(theta1))*sin(theta2) - 1.05*(1.0*sin(phi)*cos(theta1) + 0.000796326710733263*sin(theta1)*cos(phi))*cos(theta2) - 0.95*sin(phi)*cos(theta1) - 0.0007565103751966*sin(theta1)*cos(phi) + 1], [-0.3*(-0.999999682931835*sin(theta1)*sin(theta2) + 0.999999682931835*cos(theta1)*cos(theta2))*sin(theta3) - 0.3*(0.999999682931835*sin(theta1)*cos(theta2) + 0.999999682931835*sin(theta2)*cos(theta1))*cos(theta3) - 1.04999966707843*sin(theta1)*cos(theta2) - 0.949999698785243*sin(theta1) - 1.04999966707843*sin(theta2)*cos(theta1) + 0.5]])\n"
     ]
    }
   ],
   "source": [
    "# CALCULATE THE JACOBIAN\n",
    "angles = sym.Matrix([phi, theta1, theta2, theta3])\n",
    "# \n",
    "jacobian_matrix = position_function.jacobian(angles)\n",
    "jacobian_transpose = jacobian_matrix.transpose()\n",
    "jjt = jacobian_matrix * jacobian_transpose\n",
    "\n",
    "difference_position = target_position - position_function\n",
    "\n",
    "print(difference_position)"
   ]
  },
  {
   "cell_type": "code",
   "execution_count": 60,
   "metadata": {},
   "outputs": [],
   "source": [
    "# ASSUME FULL ROW RANK FOR PSEUDOINVERSE\n",
    "\n",
    "if(jacobian_matrix.rank() < jacobian_matrix.shape[0]):\n",
    "  print(\"NOT FULL ROW RANK\")\n",
    "  print(jacobian_matrix.rank())\n"
   ]
  },
  {
   "cell_type": "code",
   "execution_count": 61,
   "metadata": {},
   "outputs": [
    {
     "name": "stdout",
     "output_type": "stream",
     "text": [
      "Matrix([[-0.747684086472202], [0.132627372395752], [1.93216390853076]])\n",
      "Matrix([[-0.0654628280701945], [-0.483433229753704], [0.213562574733290]])\n",
      "Matrix([[1.33420519621500], [0.0671820630655717], [0.161826386108756]])\n",
      "Matrix([[0.613796417438344], [0.583666283513408], [0.811973081212981]])\n",
      "Matrix([[0.926285442986812], [0.957959452768088], [1.01454519307701]])\n",
      "Matrix([[0.999742989805579], [0.997685015268325], [0.998539195622353]])\n",
      "Matrix([[0.999996301255730], [0.999998951545817], [1.00000156473446]])\n",
      "Matrix([[1.00000000000028], [0.999999999993980], [0.999999999996665]])\n",
      "Matrix([[1.00000000000000], [1.00000000000000], [1.00000000000000]])\n",
      "Matrix([[1.00000000000000], [1.00000000000000], [1.00000000000000]])\n"
     ]
    }
   ],
   "source": [
    "#ALGORITHM\n",
    "for i in range(10):\n",
    "  jjt_value = jjt.evalf(subs={phi: phi_value, theta1: theta1_value, theta2: theta2_value, theta3: theta3_value})\n",
    "  jjt_inverse = jjt_value.inv()\n",
    "  pseudoinverse = jacobian_transpose * jjt_inverse\n",
    "  delta_theta = pseudoinverse * difference_position\n",
    "  delta_theta_value = delta_theta.evalf(subs={phi: phi_value, theta1: theta1_value, theta2: theta2_value, theta3: theta3_value})\n",
    "  phi_value += delta_theta_value[0]\n",
    "  theta1_value += delta_theta_value[1]\n",
    "  theta2_value += delta_theta_value[2]\n",
    "  theta3_value += delta_theta_value[3]\n",
    "\n",
    "  current_position = position_function.evalf(subs={phi: phi_value, theta1: theta1_value, theta2: theta2_value, theta3: theta3_value})\n",
    "  print(current_position)"
   ]
  }
 ],
 "metadata": {
  "kernelspec": {
   "display_name": "Python 3",
   "language": "python",
   "name": "python3"
  },
  "language_info": {
   "codemirror_mode": {
    "name": "ipython",
    "version": 3
   },
   "file_extension": ".py",
   "mimetype": "text/x-python",
   "name": "python",
   "nbconvert_exporter": "python",
   "pygments_lexer": "ipython3",
   "version": "3.10.12"
  }
 },
 "nbformat": 4,
 "nbformat_minor": 2
}
