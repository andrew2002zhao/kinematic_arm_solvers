{
 "cells": [
  {
   "cell_type": "markdown",
   "metadata": {},
   "source": [
    "The Jacobian Transpose method is an inverse kinematic method that tries to find joint values to obtain an end effector position. The algorithm tries to approximate the inverse jacobian with the jacobian transpose to try and obtain a solution for the joint values."
   ]
  },
  {
   "cell_type": "code",
   "execution_count": 364,
   "metadata": {},
   "outputs": [],
   "source": [
    "import numpy as np\n",
    "import sympy as sym\n",
    "import math"
   ]
  },
  {
   "cell_type": "code",
   "execution_count": 365,
   "metadata": {},
   "outputs": [],
   "source": [
    "# SOME HARD CODED VALUES FOR ROBOT PARAMETERS\n",
    "z = 0.3\n",
    "l1 = 0.5\n",
    "l2 = 0.5\n",
    "r1 = 0.2\n",
    "r2 = 0.25\n",
    "r3 = 0.3\n",
    "phi_value = 0\n",
    "theta1_value = 1.5714\n",
    "theta2_value = 0\n",
    "theta3_value = 1.5714\n",
    "starting_angles = sym.Matrix([phi_value, theta1_value, theta2_value, theta3_value])\n",
    "phi, theta1, theta2, theta3 = sym.symbols(\"phi theta1 theta2 theta3\")\n"
   ]
  },
  {
   "cell_type": "code",
   "execution_count": 366,
   "metadata": {},
   "outputs": [
    {
     "name": "stdout",
     "output_type": "stream",
     "text": [
      "Matrix([[0, 0, 0, 0], [0.500000000000000, 1.57000000000000, 0, phi], [0, 0, 0.950000000000000, theta1], [0, 0, 1.05000000000000, theta2], [0, 0, 0.300000000000000, theta3]])\n"
     ]
    }
   ],
   "source": [
    "# MAKE A DH PARAMETER TABLE\n",
    "# d, alpha, r, theta\n",
    "dh_parameters = sym.Matrix(\n",
    "  [\n",
    "   [0, 0, 0, 0],\n",
    "   [z + r1, 1.57, 0, phi],\n",
    "   [0, 0, r1 + l1 + r2, theta1],\n",
    "   [0, 0, r2 + l2 + r3, theta2],\n",
    "   [0, 0, r3, theta3]\n",
    "  ] \n",
    ")\n",
    "print(dh_parameters)\n"
   ]
  },
  {
   "cell_type": "code",
   "execution_count": 367,
   "metadata": {},
   "outputs": [
    {
     "name": "stdout",
     "output_type": "stream",
     "text": [
      "5\n",
      "Matrix([[(-(-0.000796326710733263*sin(phi)*sin(theta1) + 1.0*cos(phi)*cos(theta1))*sin(theta2) + (-0.000796326710733263*sin(phi)*cos(theta1) - 1.0*sin(theta1)*cos(phi))*cos(theta2))*sin(theta3) + ((-0.000796326710733263*sin(phi)*sin(theta1) + 1.0*cos(phi)*cos(theta1))*cos(theta2) + (-0.000796326710733263*sin(phi)*cos(theta1) - 1.0*sin(theta1)*cos(phi))*sin(theta2))*cos(theta3), (-(-0.000796326710733263*sin(phi)*sin(theta1) + 1.0*cos(phi)*cos(theta1))*sin(theta2) + (-0.000796326710733263*sin(phi)*cos(theta1) - 1.0*sin(theta1)*cos(phi))*cos(theta2))*cos(theta3) - ((-0.000796326710733263*sin(phi)*sin(theta1) + 1.0*cos(phi)*cos(theta1))*cos(theta2) + (-0.000796326710733263*sin(phi)*cos(theta1) - 1.0*sin(theta1)*cos(phi))*sin(theta2))*sin(theta3), 0.999999682931835*sin(phi), 0.3*(-(-0.000796326710733263*sin(phi)*sin(theta1) + 1.0*cos(phi)*cos(theta1))*sin(theta2) + (-0.000796326710733263*sin(phi)*cos(theta1) - 1.0*sin(theta1)*cos(phi))*cos(theta2))*sin(theta3) + 0.3*((-0.000796326710733263*sin(phi)*sin(theta1) + 1.0*cos(phi)*cos(theta1))*cos(theta2) + (-0.000796326710733263*sin(phi)*cos(theta1) - 1.0*sin(theta1)*cos(phi))*sin(theta2))*cos(theta3) + 1.05*(-0.000796326710733263*sin(phi)*sin(theta1) + 1.0*cos(phi)*cos(theta1))*cos(theta2) + 1.05*(-0.000796326710733263*sin(phi)*cos(theta1) - 1.0*sin(theta1)*cos(phi))*sin(theta2) - 0.0007565103751966*sin(phi)*sin(theta1) + 0.95*cos(phi)*cos(theta1)], [((-1.0*sin(phi)*sin(theta1) + 0.000796326710733263*cos(phi)*cos(theta1))*sin(theta2) + (1.0*sin(phi)*cos(theta1) + 0.000796326710733263*sin(theta1)*cos(phi))*cos(theta2))*cos(theta3) + ((-1.0*sin(phi)*sin(theta1) + 0.000796326710733263*cos(phi)*cos(theta1))*cos(theta2) - (1.0*sin(phi)*cos(theta1) + 0.000796326710733263*sin(theta1)*cos(phi))*sin(theta2))*sin(theta3), -((-1.0*sin(phi)*sin(theta1) + 0.000796326710733263*cos(phi)*cos(theta1))*sin(theta2) + (1.0*sin(phi)*cos(theta1) + 0.000796326710733263*sin(theta1)*cos(phi))*cos(theta2))*sin(theta3) + ((-1.0*sin(phi)*sin(theta1) + 0.000796326710733263*cos(phi)*cos(theta1))*cos(theta2) - (1.0*sin(phi)*cos(theta1) + 0.000796326710733263*sin(theta1)*cos(phi))*sin(theta2))*cos(theta3), -0.999999682931835*cos(phi), 0.3*((-1.0*sin(phi)*sin(theta1) + 0.000796326710733263*cos(phi)*cos(theta1))*sin(theta2) + (1.0*sin(phi)*cos(theta1) + 0.000796326710733263*sin(theta1)*cos(phi))*cos(theta2))*cos(theta3) + 0.3*((-1.0*sin(phi)*sin(theta1) + 0.000796326710733263*cos(phi)*cos(theta1))*cos(theta2) - (1.0*sin(phi)*cos(theta1) + 0.000796326710733263*sin(theta1)*cos(phi))*sin(theta2))*sin(theta3) + 1.05*(-1.0*sin(phi)*sin(theta1) + 0.000796326710733263*cos(phi)*cos(theta1))*sin(theta2) + 1.05*(1.0*sin(phi)*cos(theta1) + 0.000796326710733263*sin(theta1)*cos(phi))*cos(theta2) + 0.95*sin(phi)*cos(theta1) + 0.0007565103751966*sin(theta1)*cos(phi)], [(-0.999999682931835*sin(theta1)*sin(theta2) + 0.999999682931835*cos(theta1)*cos(theta2))*sin(theta3) + (0.999999682931835*sin(theta1)*cos(theta2) + 0.999999682931835*sin(theta2)*cos(theta1))*cos(theta3), (-0.999999682931835*sin(theta1)*sin(theta2) + 0.999999682931835*cos(theta1)*cos(theta2))*cos(theta3) - (0.999999682931835*sin(theta1)*cos(theta2) + 0.999999682931835*sin(theta2)*cos(theta1))*sin(theta3), 0.000796326710733263, 0.3*(-0.999999682931835*sin(theta1)*sin(theta2) + 0.999999682931835*cos(theta1)*cos(theta2))*sin(theta3) + 0.3*(0.999999682931835*sin(theta1)*cos(theta2) + 0.999999682931835*sin(theta2)*cos(theta1))*cos(theta3) + 1.04999966707843*sin(theta1)*cos(theta2) + 0.949999698785243*sin(theta1) + 1.04999966707843*sin(theta2)*cos(theta1) + 0.5], [0, 0, 0, 1.00000000000000]])\n"
     ]
    }
   ],
   "source": [
    "\n",
    "# MAKE A DH MATRIX FOR THE ROBOT\n",
    "\n",
    "# USING THE PARAMETERS \n",
    "dh_matrix = np.diag(np.ones((4)))\n",
    "\n",
    "print(dh_parameters.shape[0])\n",
    "for i in range(dh_parameters.shape[0]):\n",
    "  \n",
    "  trans_z = sym.Matrix([\n",
    "    [1, 0, 0, 0],\n",
    "    [0, 1, 0, 0],\n",
    "    [0, 0, 1, dh_parameters[i, 0]],\n",
    "    [0, 0, 0, 1]\n",
    "  ])\n",
    "  dh_matrix = dh_matrix * trans_z\n",
    "  rot_z = sym.Matrix([\n",
    "    [sym.cos(dh_parameters[i, 3]), -1 * sym.sin(dh_parameters[i, 3]), 0, 0],\n",
    "    [sym.sin(dh_parameters[i, 3]), sym.cos(dh_parameters[i, 3]), 0, 0],\n",
    "    [0, 0, 1, 0],\n",
    "    [0, 0, 0 ,1]\n",
    "  ])\n",
    "  dh_matrix = dh_matrix * rot_z\n",
    "  trans_x = sym.Matrix([\n",
    "    [1, 0, 0, dh_parameters[i, 2]],\n",
    "    [0, 1, 0, 0],\n",
    "    [0, 0, 1, 0],\n",
    "    [0, 0, 0, 1]\n",
    "  ])\n",
    "  dh_matrix = dh_matrix * trans_x \n",
    "  rot_x = sym.Matrix([\n",
    "    [1, 0, 0, 0],\n",
    "    [0, sym.cos(dh_parameters[i, 1]), -1 * sym.sin(dh_parameters[i, 1]), 0],\n",
    "    [0, sym.sin(dh_parameters[i, 1]), sym.cos(dh_parameters[i, 1]), 0],\n",
    "    [0, 0, 0, 1]\n",
    "  ])\n",
    "  dh_matrix =  dh_matrix * rot_x\n",
    "  \n",
    "  \n",
    "print(dh_matrix) "
   ]
  },
  {
   "cell_type": "code",
   "execution_count": 368,
   "metadata": {},
   "outputs": [
    {
     "name": "stdout",
     "output_type": "stream",
     "text": [
      "Matrix([[-0.301207127684100], [0.00159236469867950], [2.49963679772224]])\n"
     ]
    }
   ],
   "source": [
    "# GET START POSITION\n",
    "position_function = dh_matrix[0:3, -1]\n",
    "start_position = position_function.evalf(subs={phi: phi_value, theta1: theta1_value, theta2: theta2_value, theta3: theta3_value})\n",
    "current_position = start_position\n",
    "print(start_position)"
   ]
  },
  {
   "cell_type": "code",
   "execution_count": 369,
   "metadata": {},
   "outputs": [],
   "source": [
    "# SET END POSITION\n",
    "\n",
    "target_position = sym.Matrix([1, 1, 1])\n"
   ]
  },
  {
   "cell_type": "code",
   "execution_count": 370,
   "metadata": {},
   "outputs": [],
   "source": [
    "# ALGORITHM\n",
    "\n",
    "# CALCULATE THE JACOBIAN\n",
    "angles = sym.Matrix([phi, theta1, theta2, theta3])\n",
    "# \n",
    "jacobian_matrix = position_function.jacobian(angles)\n",
    "\n",
    "# CALCULATE THE JACOBIAN TRANSPOSE\n",
    "jacobian_transpose = jacobian_matrix.transpose()\n",
    "\n",
    "difference_position = target_position - position_function\n",
    "\n",
    "jte = jacobian_transpose * difference_position\n",
    "jjte = jacobian_matrix * jte\n",
    "\n",
    "alpha = jte.dot(jte) / jjte.dot(jjte)\n",
    "\n"
   ]
  },
  {
   "cell_type": "code",
   "execution_count": 371,
   "metadata": {},
   "outputs": [],
   "source": [
    "epsilon_error = 0.1\n",
    "# USE MSE AS A METRIC FOR CONVERGENCE\n",
    "def mse(target_position, calculated_position):\n",
    "  sum = 0.0\n",
    "  for i in range(len(target_position)):\n",
    "    sum += (target_position[i] - calculated_position[i]) ** 2\n",
    "  return(math.sqrt(sum))  "
   ]
  },
  {
   "cell_type": "code",
   "execution_count": 372,
   "metadata": {},
   "outputs": [],
   "source": [
    "\n",
    "while(mse(target_position, current_position) > epsilon_error):\n",
    "  alpha_value = alpha.evalf(subs={phi: phi_value, theta1: theta1_value, theta2: theta2_value, theta3: theta3_value})\n",
    "  delta_theta = alpha_value * jacobian_transpose * difference_position\n",
    "\n",
    "  jacobian_matrix_value = jacobian_matrix.evalf(subs={phi: phi_value, theta1: theta1_value, theta2: theta2_value, theta3: theta3_value})\n",
    "  delta_theta_value = delta_theta.evalf(subs={phi: phi_value, theta1: theta1_value, theta2: theta2_value, theta3: theta3_value})\n",
    "    \n",
    "  phi_value += delta_theta_value[0]\n",
    "  theta1_value += delta_theta_value[1]\n",
    "  theta2_value += delta_theta_value[2]\n",
    "  theta3_value += delta_theta_value[3]\n",
    "  \n",
    "  current_position = position_function.evalf(subs={phi: phi_value, theta1: theta1_value, theta2: theta2_value, theta3: theta3_value})\n",
    "  print(current_position)\n"
   ]
  }
 ],
 "metadata": {
  "kernelspec": {
   "display_name": "Python 3",
   "language": "python",
   "name": "python3"
  },
  "language_info": {
   "codemirror_mode": {
    "name": "ipython",
    "version": 3
   },
   "file_extension": ".py",
   "mimetype": "text/x-python",
   "name": "python",
   "nbconvert_exporter": "python",
   "pygments_lexer": "ipython3",
   "version": "3.10.12"
  }
 },
 "nbformat": 4,
 "nbformat_minor": 2
}
