{
 "cells": [
  {
   "cell_type": "markdown",
   "metadata": {},
   "source": [
    "The damped least squares method is an improvment to the pseudoinverse method. This algorithm uses the least squares method similar to the pseudoinverse method but also uses a damping factor to avoid singularities. The damping factor is a metavariable that needs to be tuned based on the configuration space."
   ]
  },
  {
   "cell_type": "code",
   "execution_count": 1,
   "metadata": {},
   "outputs": [],
   "source": [
    "import numpy as np\n",
    "import sympy as sym\n",
    "import math"
   ]
  },
  {
   "cell_type": "code",
   "execution_count": 2,
   "metadata": {},
   "outputs": [],
   "source": [
    "# SOME HARD CODED VALUES FOR ROBOT PARAMETERS\n",
    "z = 0.3\n",
    "l1 = 0.5\n",
    "l2 = 0.5\n",
    "r1 = 0.2\n",
    "r2 = 0.25\n",
    "r3 = 0.3\n",
    "phi_value = 0\n",
    "theta1_value = 1.5714\n",
    "theta2_value = 0\n",
    "theta3_value = 1.5714\n",
    "starting_angles = sym.Matrix([phi_value, theta1_value, theta2_value, theta3_value])\n",
    "phi, theta1, theta2, theta3 = sym.symbols(\"phi theta1 theta2 theta3\")\n"
   ]
  },
  {
   "cell_type": "code",
   "execution_count": 3,
   "metadata": {},
   "outputs": [
    {
     "name": "stdout",
     "output_type": "stream",
     "text": [
      "Matrix([[0, 0, 0, 0], [0.500000000000000, 1.57000000000000, 0, phi], [0, 0, 0.950000000000000, theta1], [0, 0, 1.05000000000000, theta2], [0, 0, 0.300000000000000, theta3]])\n"
     ]
    }
   ],
   "source": [
    "# MAKE A DH PARAMETER TABLE\n",
    "# d, alpha, r, theta\n",
    "dh_parameters = sym.Matrix(\n",
    "  [\n",
    "   [0, 0, 0, 0],\n",
    "   [z + r1, 1.57, 0, phi],\n",
    "   [0, 0, r1 + l1 + r2, theta1],\n",
    "   [0, 0, r2 + l2 + r3, theta2],\n",
    "   [0, 0, r3, theta3]\n",
    "  ] \n",
    ")\n",
    "print(dh_parameters)\n"
   ]
  },
  {
   "cell_type": "code",
   "execution_count": 4,
   "metadata": {},
   "outputs": [
    {
     "name": "stdout",
     "output_type": "stream",
     "text": [
      "5\n",
      "Matrix([[(-(-0.000796326710733263*sin(phi)*sin(theta1) + 1.0*cos(phi)*cos(theta1))*sin(theta2) + (-0.000796326710733263*sin(phi)*cos(theta1) - 1.0*sin(theta1)*cos(phi))*cos(theta2))*sin(theta3) + ((-0.000796326710733263*sin(phi)*sin(theta1) + 1.0*cos(phi)*cos(theta1))*cos(theta2) + (-0.000796326710733263*sin(phi)*cos(theta1) - 1.0*sin(theta1)*cos(phi))*sin(theta2))*cos(theta3), (-(-0.000796326710733263*sin(phi)*sin(theta1) + 1.0*cos(phi)*cos(theta1))*sin(theta2) + (-0.000796326710733263*sin(phi)*cos(theta1) - 1.0*sin(theta1)*cos(phi))*cos(theta2))*cos(theta3) - ((-0.000796326710733263*sin(phi)*sin(theta1) + 1.0*cos(phi)*cos(theta1))*cos(theta2) + (-0.000796326710733263*sin(phi)*cos(theta1) - 1.0*sin(theta1)*cos(phi))*sin(theta2))*sin(theta3), 0.999999682931835*sin(phi), 0.3*(-(-0.000796326710733263*sin(phi)*sin(theta1) + 1.0*cos(phi)*cos(theta1))*sin(theta2) + (-0.000796326710733263*sin(phi)*cos(theta1) - 1.0*sin(theta1)*cos(phi))*cos(theta2))*sin(theta3) + 0.3*((-0.000796326710733263*sin(phi)*sin(theta1) + 1.0*cos(phi)*cos(theta1))*cos(theta2) + (-0.000796326710733263*sin(phi)*cos(theta1) - 1.0*sin(theta1)*cos(phi))*sin(theta2))*cos(theta3) + 1.05*(-0.000796326710733263*sin(phi)*sin(theta1) + 1.0*cos(phi)*cos(theta1))*cos(theta2) + 1.05*(-0.000796326710733263*sin(phi)*cos(theta1) - 1.0*sin(theta1)*cos(phi))*sin(theta2) - 0.0007565103751966*sin(phi)*sin(theta1) + 0.95*cos(phi)*cos(theta1)], [((-1.0*sin(phi)*sin(theta1) + 0.000796326710733263*cos(phi)*cos(theta1))*sin(theta2) + (1.0*sin(phi)*cos(theta1) + 0.000796326710733263*sin(theta1)*cos(phi))*cos(theta2))*cos(theta3) + ((-1.0*sin(phi)*sin(theta1) + 0.000796326710733263*cos(phi)*cos(theta1))*cos(theta2) - (1.0*sin(phi)*cos(theta1) + 0.000796326710733263*sin(theta1)*cos(phi))*sin(theta2))*sin(theta3), -((-1.0*sin(phi)*sin(theta1) + 0.000796326710733263*cos(phi)*cos(theta1))*sin(theta2) + (1.0*sin(phi)*cos(theta1) + 0.000796326710733263*sin(theta1)*cos(phi))*cos(theta2))*sin(theta3) + ((-1.0*sin(phi)*sin(theta1) + 0.000796326710733263*cos(phi)*cos(theta1))*cos(theta2) - (1.0*sin(phi)*cos(theta1) + 0.000796326710733263*sin(theta1)*cos(phi))*sin(theta2))*cos(theta3), -0.999999682931835*cos(phi), 0.3*((-1.0*sin(phi)*sin(theta1) + 0.000796326710733263*cos(phi)*cos(theta1))*sin(theta2) + (1.0*sin(phi)*cos(theta1) + 0.000796326710733263*sin(theta1)*cos(phi))*cos(theta2))*cos(theta3) + 0.3*((-1.0*sin(phi)*sin(theta1) + 0.000796326710733263*cos(phi)*cos(theta1))*cos(theta2) - (1.0*sin(phi)*cos(theta1) + 0.000796326710733263*sin(theta1)*cos(phi))*sin(theta2))*sin(theta3) + 1.05*(-1.0*sin(phi)*sin(theta1) + 0.000796326710733263*cos(phi)*cos(theta1))*sin(theta2) + 1.05*(1.0*sin(phi)*cos(theta1) + 0.000796326710733263*sin(theta1)*cos(phi))*cos(theta2) + 0.95*sin(phi)*cos(theta1) + 0.0007565103751966*sin(theta1)*cos(phi)], [(-0.999999682931835*sin(theta1)*sin(theta2) + 0.999999682931835*cos(theta1)*cos(theta2))*sin(theta3) + (0.999999682931835*sin(theta1)*cos(theta2) + 0.999999682931835*sin(theta2)*cos(theta1))*cos(theta3), (-0.999999682931835*sin(theta1)*sin(theta2) + 0.999999682931835*cos(theta1)*cos(theta2))*cos(theta3) - (0.999999682931835*sin(theta1)*cos(theta2) + 0.999999682931835*sin(theta2)*cos(theta1))*sin(theta3), 0.000796326710733263, 0.3*(-0.999999682931835*sin(theta1)*sin(theta2) + 0.999999682931835*cos(theta1)*cos(theta2))*sin(theta3) + 0.3*(0.999999682931835*sin(theta1)*cos(theta2) + 0.999999682931835*sin(theta2)*cos(theta1))*cos(theta3) + 1.04999966707843*sin(theta1)*cos(theta2) + 0.949999698785243*sin(theta1) + 1.04999966707843*sin(theta2)*cos(theta1) + 0.5], [0, 0, 0, 1.00000000000000]])\n"
     ]
    }
   ],
   "source": [
    "\n",
    "# MAKE A DH MATRIX FOR THE ROBOT\n",
    "\n",
    "# USING THE PARAMETERS \n",
    "dh_matrix = np.diag(np.ones((4)))\n",
    "\n",
    "print(dh_parameters.shape[0])\n",
    "for i in range(dh_parameters.shape[0]):\n",
    "  \n",
    "  trans_z = sym.Matrix([\n",
    "    [1, 0, 0, 0],\n",
    "    [0, 1, 0, 0],\n",
    "    [0, 0, 1, dh_parameters[i, 0]],\n",
    "    [0, 0, 0, 1]\n",
    "  ])\n",
    "  dh_matrix = dh_matrix * trans_z\n",
    "  rot_z = sym.Matrix([\n",
    "    [sym.cos(dh_parameters[i, 3]), -1 * sym.sin(dh_parameters[i, 3]), 0, 0],\n",
    "    [sym.sin(dh_parameters[i, 3]), sym.cos(dh_parameters[i, 3]), 0, 0],\n",
    "    [0, 0, 1, 0],\n",
    "    [0, 0, 0 ,1]\n",
    "  ])\n",
    "  dh_matrix = dh_matrix * rot_z\n",
    "  trans_x = sym.Matrix([\n",
    "    [1, 0, 0, dh_parameters[i, 2]],\n",
    "    [0, 1, 0, 0],\n",
    "    [0, 0, 1, 0],\n",
    "    [0, 0, 0, 1]\n",
    "  ])\n",
    "  dh_matrix = dh_matrix * trans_x \n",
    "  rot_x = sym.Matrix([\n",
    "    [1, 0, 0, 0],\n",
    "    [0, sym.cos(dh_parameters[i, 1]), -1 * sym.sin(dh_parameters[i, 1]), 0],\n",
    "    [0, sym.sin(dh_parameters[i, 1]), sym.cos(dh_parameters[i, 1]), 0],\n",
    "    [0, 0, 0, 1]\n",
    "  ])\n",
    "  dh_matrix =  dh_matrix * rot_x\n",
    "  \n",
    "  \n",
    "print(dh_matrix) "
   ]
  },
  {
   "cell_type": "code",
   "execution_count": 5,
   "metadata": {},
   "outputs": [
    {
     "name": "stdout",
     "output_type": "stream",
     "text": [
      "Matrix([[-0.301207127684100], [0.00159236469867950], [2.49963679772224]])\n"
     ]
    }
   ],
   "source": [
    "# GET START POSITION\n",
    "position_function = dh_matrix[0:3, -1]\n",
    "start_position = position_function.evalf(subs={phi: phi_value, theta1: theta1_value, theta2: theta2_value, theta3: theta3_value})\n",
    "current_position = start_position\n",
    "print(start_position)"
   ]
  },
  {
   "cell_type": "code",
   "execution_count": 6,
   "metadata": {},
   "outputs": [],
   "source": [
    "# SET END POSITION\n",
    "\n",
    "target_position = sym.Matrix([1, 1, 1])\n"
   ]
  },
  {
   "cell_type": "code",
   "execution_count": 7,
   "metadata": {},
   "outputs": [],
   "source": [
    "# ALGORITHM\n",
    "\n",
    "# CALCULATE THE JACOBIAN\n",
    "angles = sym.Matrix([phi, theta1, theta2, theta3])\n",
    "# \n",
    "jacobian_matrix = position_function.jacobian(angles)\n"
   ]
  },
  {
   "cell_type": "code",
   "execution_count": 8,
   "metadata": {},
   "outputs": [],
   "source": [
    "# #INPUT DAMPING FACTOR \n",
    "# print('Enter Damping Factor')\n",
    "# damping_factor = float(input())"
   ]
  },
  {
   "cell_type": "code",
   "execution_count": 11,
   "metadata": {},
   "outputs": [
    {
     "name": "stdout",
     "output_type": "stream",
     "text": [
      "Matrix([[0.332714707096219], [0.101202811478566], [1.16492493634243]])\n",
      "Matrix([[-0.613782275675482], [0.821772232660095], [0.476071461171401]])\n",
      "Matrix([[0.176012659223661], [0.199230598393695], [0.433890852596259]])\n",
      "Matrix([[0.589364819691513], [0.335265714235513], [1.25743539548882]])\n",
      "Matrix([[0.600654867664229], [1.09832686884816], [0.729447522621486]])\n",
      "Matrix([[0.964121129939635], [0.903198113089285], [1.01878968335197]])\n",
      "Matrix([[0.996220520349627], [1.00080027618800], [0.996866104744504]])\n",
      "Matrix([[0.999996766625556], [0.999989941941346], [1.00000291586944]])\n",
      "Matrix([[0.999999999959496], [1.00000000000485], [0.999999999965133]])\n",
      "Matrix([[1.00000000000000], [0.999999999999998], [1.00000000000000]])\n",
      "Matrix([[-0.358993130119862], [-0.0519412106251744], [1.12839994370078]])\n",
      "Matrix([[-0.0259158205522622], [-0.0523236481288838], [0.443773976968192]])\n",
      "Matrix([[-1.06357925653824], [0.0697894926009654], [-0.255088351496849]])\n",
      "Matrix([[-0.0583726568412888], [0.100352563471643], [1.93031208899286]])\n",
      "Matrix([[-0.0118915545914711], [0.207779920929264], [0.907831102951990]])\n",
      "Matrix([[-0.689443286910939], [-0.525958472796397], [0.540702482755264]])\n",
      "Matrix([[-0.987660894373502], [-0.460071933442279], [-0.433320971418876]])\n",
      "Matrix([[0.557169660750799], [-0.00311576293702261], [1.86171760243435]])\n",
      "Matrix([[-0.107599762221881], [0.623764359865345], [0.924710275962116]])\n",
      "Matrix([[0.816974415066862], [-0.0321419112933447], [0.977421261786114]])\n",
      "Matrix([[0.164828568175419], [-0.293507659255780], [1.07510274970796]])\n",
      "Matrix([[0.0362872910487698], [-0.0981450836410956], [0.800072129113998]])\n",
      "Matrix([[-0.0505637962725942], [-0.350169374507864], [0.574277163835591]])\n",
      "Matrix([[-0.323150945604326], [-0.0323417720568174], [0.0667736632300559]])\n",
      "Matrix([[-0.288939553018491], [-0.841834258893051], [1.01955740504960]])\n",
      "Matrix([[0.198492475799977], [-0.577388120588660], [-0.372204747231338]])\n",
      "Matrix([[0.168479185872595], [0.126689275821955], [1.32909811869115]])\n",
      "Matrix([[0.350062402645181], [0.773802413814325], [0.461538787435296]])\n",
      "Matrix([[0.880452170187043], [0.588753409183724], [1.12538925804943]])\n",
      "Matrix([[0.901174826814135], [1.00636411852725], [0.929895083010984]])\n",
      "Matrix([[0.237148044837194], [-0.194189699531776], [0.995047381445473]])\n",
      "Matrix([[-0.0162976325978264], [0.183636589839990], [0.994868363358520]])\n",
      "Matrix([[0.646753443872796], [0.0302153718060683], [0.700918757481372]])\n",
      "Matrix([[0.296843151827819], [0.916081344882151], [1.00583404498591]])\n",
      "Matrix([[0.967961164577634], [0.733908142681169], [0.963184230825137]])\n",
      "Matrix([[0.956953576855392], [0.981822063302275], [0.990382670147227]])\n",
      "Matrix([[0.994745681179524], [0.995144941544870], [0.999208764074182]])\n",
      "Matrix([[0.999172849036899], [0.999188259490923], [0.999934263677061]])\n",
      "Matrix([[0.999867109056620], [0.999867748027312], [0.999992447806157]])\n",
      "Matrix([[0.999978551596056], [0.999978576653387], [0.999998899074766]])\n",
      "Matrix([[0.241075963746558], [-0.149337164135644], [0.898141083017584]])\n",
      "Matrix([[0.142693144950698], [0.260335790200555], [0.987911656928407]])\n",
      "Matrix([[0.694326477769396], [0.470049630550455], [0.550368337714121]])\n",
      "Matrix([[0.776488745287605], [0.892868751659209], [1.08639431978952]])\n",
      "Matrix([[0.960409131363240], [0.950851648456938], [0.981200121760244]])\n",
      "Matrix([[0.988709245235678], [0.988334305579234], [0.998410817460211]])\n",
      "Matrix([[0.997053358593379], [0.997028518805478], [0.999767546335753]])\n",
      "Matrix([[0.999237975026052], [0.999236110801817], [0.999955826864696]])\n",
      "Matrix([[0.999803371871973], [0.999803213882692], [0.999989890162778]])\n",
      "Matrix([[0.999949295157234], [0.999949278010615], [0.999997489750785]])\n",
      "Matrix([[0.239463741554951], [-0.128860089821547], [0.794524682008445]])\n",
      "Matrix([[0.239239822898924], [0.179462432077759], [0.962615199130761]])\n",
      "Matrix([[0.503032591843839], [0.538261710505809], [0.631583101186068]])\n",
      "Matrix([[0.815402108638669], [0.798267157853395], [1.05180674923017]])\n",
      "Matrix([[0.932317449836373], [0.933076385939005], [0.980529671416778]])\n",
      "Matrix([[0.976409540878565], [0.976457382971215], [0.997234239256852]])\n",
      "Matrix([[0.991704981838977], [0.991708742009685], [0.999368987807799]])\n",
      "Matrix([[0.997074236165250], [0.997074337928389], [0.999826274515539]])\n",
      "Matrix([[0.998966986419299], [0.998966891826252], [0.999945494035505]])\n",
      "Matrix([[0.999635143968812], [0.999635095964172], [0.999981665854358]])\n",
      "Matrix([[0.242012442341532], [-0.120103956933370], [0.691605647066823]])\n",
      "Matrix([[0.245982724801018], [0.0971874398883638], [0.934221596412328]])\n",
      "Matrix([[0.421170444174212], [0.370640501658616], [0.702240091117799]])\n",
      "Matrix([[0.654198922873489], [0.668953330096730], [1.01979178986411]])\n",
      "Matrix([[0.849044400983411], [0.847627503752973], [0.956529550492610]])\n",
      "Matrix([[0.934270358408566], [0.934174654676165], [0.992752137634807]])\n",
      "Matrix([[0.971294073122488], [0.971279463930774], [0.997691042162736]])\n",
      "Matrix([[0.987392888864385], [0.987389556656591], [0.999193669139410]])\n",
      "Matrix([[0.994446667790933], [0.994445622810848], [0.999689359644652]])\n",
      "Matrix([[0.997550370909701], [0.997549972033387], [0.999872145403812]])\n",
      "Matrix([[0.248381776626362], [-0.117186673000909], [0.593556849707162]])\n",
      "Matrix([[0.229472149388191], [0.0481114325246821], [0.898866067099630]])\n",
      "Matrix([[0.372734617859232], [0.222767139928520], [0.722631808418266]])\n",
      "Matrix([[0.474661527752471], [0.450943563368782], [0.976795511821175]])\n",
      "Matrix([[0.677369669451193], [0.677468268009710], [0.918483366236684]])\n",
      "Matrix([[0.831122707027954], [0.831099022715834], [0.984557949930989]])\n",
      "Matrix([[0.913629130079310], [0.913611476479367], [0.992834486694489]])\n",
      "Matrix([[0.955710253904311], [0.955701969441015], [0.997063851656888]])\n",
      "Matrix([[0.977172761798059], [0.977168829027502], [0.998680646200868]])\n",
      "Matrix([[0.988192796879204], [0.988190877945232], [0.999366703235716]])\n",
      "Matrix([[0.256255209234901], [-0.116912393698160], [0.502188324819763]])\n",
      "Matrix([[0.220555851602817], [0.0203277719453852], [0.856771179421498]])\n",
      "Matrix([[0.333941816843076], [0.134082226010755], [0.731198374959234]])\n",
      "Matrix([[0.372705136582199], [0.278451068963926], [0.885985673382222]])\n",
      "Matrix([[0.491924208790117], [0.459699815068859], [0.894871364060100]])\n",
      "Matrix([[0.653178534311359], [0.647417222829155], [0.968577952792249]])\n",
      "Matrix([[0.790505407261288], [0.789581761448306], [0.982365840605052]])\n",
      "Matrix([[0.878185651742339], [0.877998028000201], [0.992363135619116]])\n",
      "Matrix([[0.929502103597042], [0.929454071149759], [0.996197497786254]])\n",
      "Matrix([[0.959085478119772], [0.959070224377305], [0.997933215437228]])\n",
      "Matrix([[0.263565507345706], [-0.117476189259273], [0.417993994351703]])\n",
      "Matrix([[0.223661087336364], [0.00190270969550336], [0.809432937988856]])\n",
      "Matrix([[0.303382399024350], [0.0826270463135809], [0.739704271282431]])\n",
      "Matrix([[0.326791020554746], [0.182289475244548], [0.803121317366226]])\n",
      "Matrix([[0.376627157927399], [0.292825548781663], [0.846924769984298]])\n",
      "Matrix([[0.468401030191583], [0.429052133041058], [0.922447873342569]])\n",
      "Matrix([[0.599330116569012], [0.585747271575972], [0.961458301425200]])\n",
      "Matrix([[0.727098578154101], [0.723444601056495], [0.983194635674391]])\n",
      "Matrix([[0.823312515435391], [0.822364967379429], [0.991739170945474]])\n",
      "Matrix([[0.887420492495248], [0.887159495819228], [0.995349277827873]])\n"
     ]
    }
   ],
   "source": [
    "starting_phi_value = phi_value\n",
    "starting_theta1_value = theta1_value\n",
    "starting_theta2_value = theta2_value\n",
    "starting_theta3_value = theta3_value\n",
    "\n",
    "for damping_factor in range(0, 10):\n",
    "  phi_value = starting_phi_value\n",
    "  theta1_value = starting_theta1_value\n",
    "  theta2_value = starting_theta2_value\n",
    "  theta3_value = starting_theta3_value\n",
    "  for i in range(10):\n",
    "    \n",
    "    jacobian_matrix_values = jacobian_matrix.evalf(subs={phi: phi_value, theta1: theta1_value, theta2: theta2_value, theta3: theta3_value})\n",
    "    # CALCULATE THE JACOBIAN TRANSPOSE\n",
    "    jacobian_transpose = jacobian_matrix_values.transpose()\n",
    "    difference_position = target_position - position_function\n",
    "    difference_position_value = difference_position.evalf(subs={phi: phi_value, theta1: theta1_value, theta2: theta2_value, theta3: theta3_value})\n",
    "    \n",
    "    jjt = jacobian_matrix_values * jacobian_transpose\n",
    "\n",
    "    identity_matrix = sym.Matrix.eye(jjt.shape[0])\n",
    "    inverse_matrix = (jjt + (damping_factor / 10) ** 2 * identity_matrix).inv()\n",
    "    delta_theta = jacobian_transpose * inverse_matrix * difference_position_value\n",
    "    delta_theta_value = delta_theta.evalf(subs={phi: phi_value, theta1: theta1_value, theta2: theta2_value, theta3: theta3_value})\n",
    "      \n",
    "    phi_value += delta_theta_value[0]\n",
    "    theta1_value += delta_theta_value[1]\n",
    "    theta2_value += delta_theta_value[2]\n",
    "    theta3_value += delta_theta_value[3]\n",
    "    \n",
    "    current_position = position_function.evalf(subs={phi: phi_value, theta1: theta1_value, theta2: theta2_value, theta3: theta3_value})\n",
    "    print(current_position)"
   ]
  }
 ],
 "metadata": {
  "kernelspec": {
   "display_name": "Python 3",
   "language": "python",
   "name": "python3"
  },
  "language_info": {
   "codemirror_mode": {
    "name": "ipython",
    "version": 3
   },
   "file_extension": ".py",
   "mimetype": "text/x-python",
   "name": "python",
   "nbconvert_exporter": "python",
   "pygments_lexer": "ipython3",
   "version": "3.10.12"
  }
 },
 "nbformat": 4,
 "nbformat_minor": 2
}
