{
 "cells": [
  {
   "cell_type": "markdown",
   "metadata": {},
   "source": [
    "The Jacobian Transpose method is an inverse kinematic method that tries to find joint values to obtain an end effector position. The algorithm tries to approximate the inverse jacobian with the jacobian transpose to try and obtain a solution for the joint values."
   ]
  },
  {
   "cell_type": "code",
   "execution_count": 95,
   "metadata": {},
   "outputs": [],
   "source": [
    "import numpy as np\n",
    "import sympy as sym\n",
    "import math\n",
    "import matplotlib.pyplot as plt"
   ]
  },
  {
   "cell_type": "code",
   "execution_count": 96,
   "metadata": {},
   "outputs": [],
   "source": [
    "# SOME HARD CODED VALUES FOR ROBOT PARAMETERS\n",
    "z = 0.3\n",
    "l1 = 0.5\n",
    "l2 = 0.5\n",
    "r1 = 0.2\n",
    "r2 = 0.25\n",
    "r3 = 0.3\n",
    "phi = 1.3\n",
    "theta1_value = 1.53\n",
    "theta2_value = 1.51\n",
    "theta3_value = 1.4\n",
    "starting_angles = sym.Matrix([theta1_value, theta2_value, theta3_value])\n",
    "theta1, theta2, theta3 = sym.symbols(\"theta1 theta2 theta3\")\n"
   ]
  },
  {
   "cell_type": "code",
   "execution_count": 97,
   "metadata": {},
   "outputs": [
    {
     "name": "stdout",
     "output_type": "stream",
     "text": [
      "Matrix([[0, 0, 0, 1.30000000000000], [0.500000000000000, 1.57000000000000, 0, 0], [0, 0, 0.950000000000000, theta1], [0, 0, 1.05000000000000, theta2], [0, 0, 0.300000000000000, theta3]])\n"
     ]
    }
   ],
   "source": [
    "# MAKE A DH PARAMETER TABLE\n",
    "# d, alpha, r, theta\n",
    "dh_parameters = sym.Matrix(\n",
    "  [\n",
    "   [0, 0, 0, phi],\n",
    "   [z + r1, 1.57, 0, 0],\n",
    "   [0, 0, r1 + l1 + r2, theta1],\n",
    "   [0, 0, r2 + l2 + r3, theta2],\n",
    "   [0, 0, r3, theta3]\n",
    "  ] \n",
    ")\n",
    "print(dh_parameters)\n"
   ]
  },
  {
   "cell_type": "code",
   "execution_count": 98,
   "metadata": {},
   "outputs": [
    {
     "name": "stdout",
     "output_type": "stream",
     "text": [
      "5\n",
      "Matrix([[-((-0.000767307120393385*sin(theta1) + 0.267498828624587*cos(theta1))*sin(theta2) + (0.267498828624587*sin(theta1) + 0.000767307120393385*cos(theta1))*cos(theta2))*sin(theta3) + ((-0.000767307120393385*sin(theta1) + 0.267498828624587*cos(theta1))*cos(theta2) - (0.267498828624587*sin(theta1) + 0.000767307120393385*cos(theta1))*sin(theta2))*cos(theta3), (-(-0.963558185417193*sin(theta1) + 0.000213016462323619*cos(theta1))*sin(theta2) + (-0.000213016462323619*sin(theta1) - 0.963558185417193*cos(theta1))*cos(theta2))*cos(theta3) - ((-0.963558185417193*sin(theta1) + 0.000213016462323619*cos(theta1))*cos(theta2) + (-0.000213016462323619*sin(theta1) - 0.963558185417193*cos(theta1))*sin(theta2))*sin(theta3), -(0.999999682931835*sin(theta1)*sin(theta2) - 0.999999682931835*cos(theta1)*cos(theta2))*sin(theta3) + (0.999999682931835*sin(theta1)*cos(theta2) + 0.999999682931835*sin(theta2)*cos(theta1))*cos(theta3), -((0.499999841465917*sin(theta1) + 0.95)*sin(theta2) - 0.499999841465917*cos(theta1)*cos(theta2))*sin(theta3) + ((0.499999841465917*sin(theta1) + 0.95)*cos(theta2) + 0.499999841465917*sin(theta2)*cos(theta1) + 1.05)*cos(theta3) + 0.3], [((-0.000767307120393385*sin(theta1) + 0.267498828624587*cos(theta1))*sin(theta2) + (0.267498828624587*sin(theta1) + 0.000767307120393385*cos(theta1))*cos(theta2))*cos(theta3) + ((-0.000767307120393385*sin(theta1) + 0.267498828624587*cos(theta1))*cos(theta2) - (0.267498828624587*sin(theta1) + 0.000767307120393385*cos(theta1))*sin(theta2))*sin(theta3), (-(-0.963558185417193*sin(theta1) + 0.000213016462323619*cos(theta1))*sin(theta2) + (-0.000213016462323619*sin(theta1) - 0.963558185417193*cos(theta1))*cos(theta2))*sin(theta3) + ((-0.963558185417193*sin(theta1) + 0.000213016462323619*cos(theta1))*cos(theta2) + (-0.000213016462323619*sin(theta1) - 0.963558185417193*cos(theta1))*sin(theta2))*cos(theta3), (0.999999682931835*sin(theta1)*sin(theta2) - 0.999999682931835*cos(theta1)*cos(theta2))*cos(theta3) + (0.999999682931835*sin(theta1)*cos(theta2) + 0.999999682931835*sin(theta2)*cos(theta1))*sin(theta3), ((0.499999841465917*sin(theta1) + 0.95)*sin(theta2) - 0.499999841465917*cos(theta1)*cos(theta2))*cos(theta3) + ((0.499999841465917*sin(theta1) + 0.95)*cos(theta2) + 0.499999841465917*sin(theta2)*cos(theta1) + 1.05)*sin(theta3)], [0.963557879903567, 0.267498743809225, 0.000796326710733263, 0.000398163355366632], [0, 0, 0, 1.00000000000000]])\n"
     ]
    }
   ],
   "source": [
    "\n",
    "# MAKE A DH MATRIX FOR THE ROBOT\n",
    "\n",
    "# USING THE PARAMETERS \n",
    "dh_matrix = np.diag(np.ones((4)))\n",
    "\n",
    "print(dh_parameters.shape[0])\n",
    "for i in range(dh_parameters.shape[0]):\n",
    "  \n",
    "  trans_z = sym.Matrix([\n",
    "    [1, 0, 0, 0],\n",
    "    [0, 1, 0, 0],\n",
    "    [0, 0, 1, dh_parameters[i, 0]],\n",
    "    [0, 0, 0, 1]\n",
    "  ])\n",
    "  dh_matrix = trans_z * dh_matrix\n",
    "  rot_z = sym.Matrix([\n",
    "    [sym.cos(dh_parameters[i, 3]), -1 * sym.sin(dh_parameters[i, 3]), 0, 0],\n",
    "    [sym.sin(dh_parameters[i, 3]), sym.cos(dh_parameters[i, 3]), 0, 0],\n",
    "    [0, 0, 1, 0],\n",
    "    [0, 0, 0 ,1]\n",
    "  ])\n",
    "  dh_matrix =  rot_z * dh_matrix\n",
    "  trans_x = sym.Matrix([\n",
    "    [1, 0, 0, dh_parameters[i, 2]],\n",
    "    [0, 1, 0, 0],\n",
    "    [0, 0, 1, 0],\n",
    "    [0, 0, 0, 1]\n",
    "  ])\n",
    "  dh_matrix = trans_x * dh_matrix\n",
    "  rot_x = sym.Matrix([\n",
    "    [1, 0, 0, 0],\n",
    "    [0, sym.cos(dh_parameters[i, 1]), -1 * sym.sin(dh_parameters[i, 1]), 0],\n",
    "    [0, sym.sin(dh_parameters[i, 1]), sym.cos(dh_parameters[i, 1]), 0],\n",
    "    [0, 0, 0, 1]\n",
    "  ])\n",
    "  dh_matrix = rot_x * dh_matrix\n",
    "  \n",
    "print(dh_matrix) "
   ]
  },
  {
   "cell_type": "code",
   "execution_count": 99,
   "metadata": {},
   "outputs": [
    {
     "name": "stdout",
     "output_type": "stream",
     "text": [
      "Matrix([[-((0.499999841465917*sin(theta1) + 0.95)*sin(theta2) - 0.499999841465917*cos(theta1)*cos(theta2))*sin(theta3) + ((0.499999841465917*sin(theta1) + 0.95)*cos(theta2) + 0.499999841465917*sin(theta2)*cos(theta1) + 1.05)*cos(theta3) + 0.3], [((0.499999841465917*sin(theta1) + 0.95)*sin(theta2) - 0.499999841465917*cos(theta1)*cos(theta2))*cos(theta3) + ((0.499999841465917*sin(theta1) + 0.95)*cos(theta2) + 0.499999841465917*sin(theta2)*cos(theta1) + 1.05)*sin(theta3)], [0.000398163355366632]])\n"
     ]
    }
   ],
   "source": [
    "# GET START POSITION\n",
    "start_position = dh_matrix[0:3, -1]\n",
    "print(start_position)"
   ]
  },
  {
   "cell_type": "code",
   "execution_count": 100,
   "metadata": {},
   "outputs": [],
   "source": [
    "# SET END POSITION\n",
    "\n",
    "\n",
    "target_position = sym.Matrix([1, 1, 0.5])\n"
   ]
  },
  {
   "cell_type": "code",
   "execution_count": 101,
   "metadata": {},
   "outputs": [
    {
     "name": "stdout",
     "output_type": "stream",
     "text": [
      "Matrix([[(-0.499999841465917*sin(theta1)*sin(theta2) + 0.499999841465917*cos(theta1)*cos(theta2))*cos(theta3) + (-0.499999841465917*sin(theta1)*cos(theta2) - 0.499999841465917*sin(theta2)*cos(theta1))*sin(theta3), (-(0.499999841465917*sin(theta1) + 0.95)*sin(theta2) + 0.499999841465917*cos(theta1)*cos(theta2))*cos(theta3) + (-(0.499999841465917*sin(theta1) + 0.95)*cos(theta2) - 0.499999841465917*sin(theta2)*cos(theta1))*sin(theta3), (-(0.499999841465917*sin(theta1) + 0.95)*sin(theta2) + 0.499999841465917*cos(theta1)*cos(theta2))*cos(theta3) - ((0.499999841465917*sin(theta1) + 0.95)*cos(theta2) + 0.499999841465917*sin(theta2)*cos(theta1) + 1.05)*sin(theta3)], [(-0.499999841465917*sin(theta1)*sin(theta2) + 0.499999841465917*cos(theta1)*cos(theta2))*sin(theta3) + (0.499999841465917*sin(theta1)*cos(theta2) + 0.499999841465917*sin(theta2)*cos(theta1))*cos(theta3), (-(0.499999841465917*sin(theta1) + 0.95)*sin(theta2) + 0.499999841465917*cos(theta1)*cos(theta2))*sin(theta3) + ((0.499999841465917*sin(theta1) + 0.95)*cos(theta2) + 0.499999841465917*sin(theta2)*cos(theta1))*cos(theta3), -((0.499999841465917*sin(theta1) + 0.95)*sin(theta2) - 0.499999841465917*cos(theta1)*cos(theta2))*sin(theta3) + ((0.499999841465917*sin(theta1) + 0.95)*cos(theta2) + 0.499999841465917*sin(theta2)*cos(theta1) + 1.05)*cos(theta3)], [0, 0, 0]])\n"
     ]
    }
   ],
   "source": [
    "# ALGORITHM\n",
    "\n",
    "# CALCULATE THE JACOBIAN\n",
    "angles = sym.Matrix([theta1, theta2, theta3])\n",
    "# \n",
    "jacobian_matrix = start_position.jacobian(angles)\n",
    "\n",
    "print(jacobian_matrix)"
   ]
  },
  {
   "cell_type": "code",
   "execution_count": 102,
   "metadata": {},
   "outputs": [
    {
     "name": "stdout",
     "output_type": "stream",
     "text": [
      "Matrix([[(-0.499999841465917*sin(theta1)*sin(theta2) + 0.499999841465917*cos(theta1)*cos(theta2))*cos(theta3) + (-0.499999841465917*sin(theta1)*cos(theta2) - 0.499999841465917*sin(theta2)*cos(theta1))*sin(theta3), (-0.499999841465917*sin(theta1)*sin(theta2) + 0.499999841465917*cos(theta1)*cos(theta2))*sin(theta3) + (0.499999841465917*sin(theta1)*cos(theta2) + 0.499999841465917*sin(theta2)*cos(theta1))*cos(theta3), 0], [(-(0.499999841465917*sin(theta1) + 0.95)*sin(theta2) + 0.499999841465917*cos(theta1)*cos(theta2))*cos(theta3) + (-(0.499999841465917*sin(theta1) + 0.95)*cos(theta2) - 0.499999841465917*sin(theta2)*cos(theta1))*sin(theta3), (-(0.499999841465917*sin(theta1) + 0.95)*sin(theta2) + 0.499999841465917*cos(theta1)*cos(theta2))*sin(theta3) + ((0.499999841465917*sin(theta1) + 0.95)*cos(theta2) + 0.499999841465917*sin(theta2)*cos(theta1))*cos(theta3), 0], [(-(0.499999841465917*sin(theta1) + 0.95)*sin(theta2) + 0.499999841465917*cos(theta1)*cos(theta2))*cos(theta3) - ((0.499999841465917*sin(theta1) + 0.95)*cos(theta2) + 0.499999841465917*sin(theta2)*cos(theta1) + 1.05)*sin(theta3), -((0.499999841465917*sin(theta1) + 0.95)*sin(theta2) - 0.499999841465917*cos(theta1)*cos(theta2))*sin(theta3) + ((0.499999841465917*sin(theta1) + 0.95)*cos(theta2) + 0.499999841465917*sin(theta2)*cos(theta1) + 1.05)*cos(theta3), 0]])\n"
     ]
    }
   ],
   "source": [
    "\n",
    "# CALCULATE THE JACOBIAN TRANSPOSE\n",
    "jacobian_transpose = jacobian_matrix.transpose()\n",
    "\n",
    "print(jacobian_transpose)"
   ]
  },
  {
   "cell_type": "code",
   "execution_count": 103,
   "metadata": {},
   "outputs": [
    {
     "name": "stdout",
     "output_type": "stream",
     "text": [
      "Matrix([[((0.499999841465917*sin(theta1) + 0.95)*sin(theta2) - 0.499999841465917*cos(theta1)*cos(theta2))*sin(theta3) - ((0.499999841465917*sin(theta1) + 0.95)*cos(theta2) + 0.499999841465917*sin(theta2)*cos(theta1) + 1.05)*cos(theta3) + 0.7], [-((0.499999841465917*sin(theta1) + 0.95)*sin(theta2) - 0.499999841465917*cos(theta1)*cos(theta2))*cos(theta3) - ((0.499999841465917*sin(theta1) + 0.95)*cos(theta2) + 0.499999841465917*sin(theta2)*cos(theta1) + 1.05)*sin(theta3) + 1], [0.499601836644633]])\n"
     ]
    }
   ],
   "source": [
    "# GET A DIFFERENCE VECTOR\n",
    "\n",
    "difference_position = target_position - start_position\n",
    "\n",
    "print(difference_position)"
   ]
  },
  {
   "cell_type": "code",
   "execution_count": 104,
   "metadata": {},
   "outputs": [],
   "source": [
    "# GET JTe and JJTe\n",
    "\n",
    "jte = jacobian_transpose * difference_position\n",
    "jjte = jacobian_matrix * jte"
   ]
  },
  {
   "cell_type": "code",
   "execution_count": 105,
   "metadata": {},
   "outputs": [
    {
     "name": "stdout",
     "output_type": "stream",
     "text": [
      "0.266775033047401\n"
     ]
    }
   ],
   "source": [
    "# GET ALPHA\n",
    "\n",
    "alpha = jte.dot(jte) / jjte.dot(jjte)\n",
    "\n",
    "print(alpha.evalf(subs={theta1: theta1_value, theta2: theta2_value, theta3: theta3_value}))"
   ]
  },
  {
   "cell_type": "code",
   "execution_count": 108,
   "metadata": {},
   "outputs": [],
   "source": [
    "# GET DELTA THETA\n",
    "\n",
    "delta_theta_expr = alpha * jacobian_transpose * difference_position\n",
    "delta_theta = delta_theta.evalf(subs={theta1: theta1_value, theta2: theta2_value, theta3: theta3_value})\n"
   ]
  },
  {
   "cell_type": "code",
   "execution_count": 109,
   "metadata": {},
   "outputs": [
    {
     "name": "stdout",
     "output_type": "stream",
     "text": [
      "Matrix([[1.51057694768575], [1.47397204615683], [0.813404393641391]])\n"
     ]
    }
   ],
   "source": [
    "# GET NEW THETA\n",
    "\n",
    "new_theta = starting_angles + delta_theta\n",
    "\n",
    "print (new_theta)"
   ]
  }
 ],
 "metadata": {
  "kernelspec": {
   "display_name": "Python 3",
   "language": "python",
   "name": "python3"
  },
  "language_info": {
   "codemirror_mode": {
    "name": "ipython",
    "version": 3
   },
   "file_extension": ".py",
   "mimetype": "text/x-python",
   "name": "python",
   "nbconvert_exporter": "python",
   "pygments_lexer": "ipython3",
   "version": "3.10.12"
  }
 },
 "nbformat": 4,
 "nbformat_minor": 2
}
