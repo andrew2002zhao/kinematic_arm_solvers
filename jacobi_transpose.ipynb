{
 "cells": [
  {
   "cell_type": "code",
   "execution_count": 37,
   "metadata": {},
   "outputs": [],
   "source": [
    "import numpy as np\n",
    "import math"
   ]
  },
  {
   "cell_type": "code",
   "execution_count": 38,
   "metadata": {},
   "outputs": [],
   "source": [
    "# SOME HARD CODED VALUES FOR ROBOT PARAMETERS\n",
    "l1 = 0.2\n",
    "l2 = 0.3\n",
    "r1 = 0.2\n",
    "r2 = 0.25\n",
    "r3 = 0.3\n",
    "theta1 = 1.53\n",
    "theta2 = 1.51\n",
    "theta3 = 1.4\n",
    "phi = 1.3\n"
   ]
  },
  {
   "cell_type": "code",
   "execution_count": 45,
   "metadata": {},
   "outputs": [
    {
     "name": "stdout",
     "output_type": "stream",
     "text": [
      "[[0.   0.   0.   1.3 ]\n",
      " [0.2  1.57 0.   0.  ]\n",
      " [0.   0.   0.65 1.53]\n",
      " [0.   0.   0.85 1.51]\n",
      " [0.   0.   0.3  1.4 ]]\n"
     ]
    }
   ],
   "source": [
    "# MAKE A DH PARAMETER TABLE\n",
    "# d, alpha, r, theta\n",
    "dh_parameters = np.array(\n",
    "  [\n",
    "   [0, 0, 0, phi],\n",
    "   [r1, 1.57, 0, 0],\n",
    "   [0, 0, r1 + l1 + r2, theta1],\n",
    "   [0, 0, r2 + l2 + r3, theta2],\n",
    "   [0, 0, r3, theta3]\n",
    "  ] \n",
    ")\n",
    "print(dh_parameters)\n"
   ]
  },
  {
   "cell_type": "code",
   "execution_count": 46,
   "metadata": {},
   "outputs": [
    {
     "name": "stdout",
     "output_type": "stream",
     "text": [
      "[[1. 0. 0. 0.]\n",
      " [0. 1. 0. 0.]\n",
      " [0. 0. 1. 0.]\n",
      " [0. 0. 0. 1.]]\n",
      "[[-7.12270227e-02  2.59434211e-01 -9.63130625e-01 -3.80800400e-01]\n",
      " [-2.57842827e-01  9.27975383e-01  2.69033018e-01  1.04063204e+00]\n",
      " [ 9.63557880e-01  2.67498744e-01  7.96326711e-04  1.59265342e-04]\n",
      " [ 0.00000000e+00  0.00000000e+00  0.00000000e+00  1.00000000e+00]]\n"
     ]
    }
   ],
   "source": [
    "\n",
    "# MAKE A DH MATRIX FOR THE ROBOT\n",
    "\n",
    "# USING THE PARAMETERS \n",
    "dh_matrix = np.diag(np.ones((4)))\n",
    "print(dh_matrix)  \n",
    "for row in dh_parameters:\n",
    "  trans_z = np.array([\n",
    "    [1, 0, 0, 0],\n",
    "    [0, 1, 0, 0],\n",
    "    [0, 0, 1, row[0]],\n",
    "    [0, 0, 0, 1]\n",
    "  ])\n",
    "  dh_matrix = np.matmul(trans_z, dh_matrix)\n",
    "  rot_z = np.array([\n",
    "    [math.cos(row[3]), -1 * math.sin(row[3]), 0, 0],\n",
    "    [math.sin(row[3]), math.cos(row[3]), 0, 0],\n",
    "    [0, 0, 1, 0],\n",
    "    [0, 0, 0 ,1]\n",
    "  ])\n",
    "  dh_matrix =  np.matmul(rot_z, dh_matrix)\n",
    "  trans_x = np.array([\n",
    "    [1, 0, 0, row[2]],\n",
    "    [0, 1, 0, 0],\n",
    "    [0, 0, 1, 0],\n",
    "    [0, 0, 0, 1]\n",
    "  ])\n",
    "  dh_matrix = np.matmul(trans_x, dh_matrix)\n",
    "  rot_x = np.array([\n",
    "    [1, 0, 0, 0],\n",
    "    [0, math.cos(row[1]), -1 * math.sin(row[1]), 0],\n",
    "    [0, math.sin(row[1]), math.cos(row[1]), 0],\n",
    "    [0, 0, 0, 1]\n",
    "  ])\n",
    "  dh_matrix = np.matmul(rot_x, dh_matrix)\n",
    "  \n",
    "print(dh_matrix) "
   ]
  },
  {
   "cell_type": "code",
   "execution_count": null,
   "metadata": {},
   "outputs": [],
   "source": [
    "# SET END POSITION"
   ]
  },
  {
   "cell_type": "code",
   "execution_count": null,
   "metadata": {},
   "outputs": [],
   "source": [
    "\n",
    "# ALGORITHM\n",
    "\n",
    "# CALCULATE THE JACOBIAN\n",
    "\n",
    "# CALCULATE THE JACOBIAN TRANSPOSE\n",
    "\n",
    "# "
   ]
  }
 ],
 "metadata": {
  "kernelspec": {
   "display_name": "Python 3",
   "language": "python",
   "name": "python3"
  },
  "language_info": {
   "codemirror_mode": {
    "name": "ipython",
    "version": 3
   },
   "file_extension": ".py",
   "mimetype": "text/x-python",
   "name": "python",
   "nbconvert_exporter": "python",
   "pygments_lexer": "ipython3",
   "version": "3.10.12"
  }
 },
 "nbformat": 4,
 "nbformat_minor": 2
}
